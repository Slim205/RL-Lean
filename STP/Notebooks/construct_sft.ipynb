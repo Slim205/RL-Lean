{
 "cells": [
  {
   "cell_type": "code",
   "execution_count": 1,
   "id": "8a260001-c0aa-4337-9b4e-95d8321b314b",
   "metadata": {},
   "outputs": [
    {
     "name": "stderr",
     "output_type": "stream",
     "text": [
      "/n/netscratch/amin_lab/Lab/slim/env/lib/python3.12/site-packages/tqdm/auto.py:21: TqdmWarning: IProgress not found. Please update jupyter and ipywidgets. See https://ipywidgets.readthedocs.io/en/stable/user_install.html\n",
      "  from .autonotebook import tqdm as notebook_tqdm\n"
     ]
    }
   ],
   "source": [
    "import os\n",
    "import json\n",
    "import pickle\n",
    "import numpy as np\n",
    "from pathlib import Path\n",
    "from typing import Dict\n",
    "from tqdm.auto import tqdm  \n",
    "\n",
    "import os\n",
    "from pathlib import Path\n",
    "\n",
    "MATHLIB_DIR = Path(\"~/lean/mathlib4/Mathlib\").expanduser()  \n",
    "LeanDojo_DIR = Path(\"~/leandojo_benchmark_4/\").expanduser()\n",
    "Save_DIR = Path(\"./STP/SFT/\").expanduser()  # Use Path for consistency\n",
    "\n",
    "os.makedirs(Save_DIR, exist_ok=True)  # Now works with the full path"
   ]
  },
  {
   "cell_type": "markdown",
   "id": "73662c6e-2566-4be5-be9d-1de6dc36485e",
   "metadata": {},
   "source": [
    "# Read Lean Files"
   ]
  },
  {
   "cell_type": "code",
   "execution_count": 2,
   "id": "63a3ff31-41d3-4b80-84b6-b7e02d73b9cb",
   "metadata": {},
   "outputs": [
    {
     "name": "stdout",
     "output_type": "stream",
     "text": [
      "Found 4360 `.lean` files to process.\n"
     ]
    },
    {
     "name": "stderr",
     "output_type": "stream",
     "text": [
      "Reading .lean files: 100%|██████████| 4360/4360 [00:03<00:00, 1172.59file/s]"
     ]
    },
    {
     "name": "stdout",
     "output_type": "stream",
     "text": [
      "Total .lean files read: 4360\n",
      "First file: Mathlib/Tactic.lean\n",
      "Content snippet: ['import Mathlib.Tactic.Abel\\n', 'import Mathlib.Tactic.AdaptationNote\\n', 'import Mathlib.Tactic.ApplyAt\\n', 'import Mathlib.Tactic.ApplyCongr\\n', 'import Mathlib.Tactic.ApplyFun\\n', 'import Mathlib.Tactic.ApplyWith\\n', 'import Mathlib.Tactic.ArithMult\\n', 'import Mathlib.Tactic.ArithMult.Init\\n', 'import Mathlib.Tactic.Attr.Core\\n', 'import Mathlib.Tactic.Attr.Register\\n']\n"
     ]
    },
    {
     "name": "stderr",
     "output_type": "stream",
     "text": [
      "\n"
     ]
    }
   ],
   "source": [
    "def read_lean_files(directory: Path) -> Dict[str, str]:\n",
    "    \"\"\"\n",
    "    Recursively reads all `.lean` files in the specified directory and returns\n",
    "    a dictionary mapping file paths to their contents, displaying a progress bar.\n",
    "\n",
    "    Args:\n",
    "        directory (Path): The root directory to start searching for `.lean` files.\n",
    "\n",
    "    Returns:\n",
    "        Dict[str, str]: A dictionary where keys are file paths (as strings) and\n",
    "                        values are the contents of the files.\n",
    "    \"\"\"\n",
    "    if not directory.exists():\n",
    "        raise FileNotFoundError(f\"The directory {directory} does not exist.\")\n",
    "    if not directory.is_dir():\n",
    "        raise NotADirectoryError(f\"The path {directory} is not a directory.\")\n",
    "\n",
    "    # Collect all .lean files first to determine the total number for the progress bar\n",
    "    lean_files = list(directory.rglob('*.lean'))\n",
    "    total_files = len(lean_files)\n",
    "    print(f\"Found {total_files} `.lean` files to process.\")\n",
    "\n",
    "    file_contents = {}\n",
    "\n",
    "    # Initialize tqdm progress bar\n",
    "    with tqdm(total=total_files, desc=\"Reading .lean files\", unit=\"file\") as pbar:\n",
    "        for file_path in lean_files:\n",
    "            try:\n",
    "                # Read the file content with UTF-8 encoding\n",
    "                with file_path.open() as f:\n",
    "                    content = f.readlines()\n",
    "                # Use the absolute path as the key\n",
    "                file_contents[str(file_path.resolve())] = content\n",
    "            except Exception as e:\n",
    "                print(f\"Error reading {file_path}: {e}\")\n",
    "            finally:\n",
    "                pbar.update(1)  # Update the progress bar\n",
    "\n",
    "    return file_contents\n",
    "\n",
    "\n",
    "try:\n",
    "    lean_file_dict = read_lean_files(MATHLIB_DIR)\n",
    "    lean_file_dict = {k.split('mathlib4/')[-1]: v for k, v in lean_file_dict.items()}\n",
    "    print(f\"Total .lean files read: {len(lean_file_dict)}\")\n",
    "    # Example: Print the first file's path and its first 100 characters\n",
    "    if lean_file_dict:\n",
    "        first_path = next(iter(lean_file_dict))\n",
    "        print(f\"First file: {first_path}\")\n",
    "        print(f\"Content snippet: {lean_file_dict[first_path][:10]}\")\n",
    "except Exception as error:\n",
    "    print(f\"An error occurred: {error}\")"
   ]
  },
  {
   "cell_type": "code",
   "execution_count": 3,
   "id": "eff52232",
   "metadata": {},
   "outputs": [
    {
     "name": "stdout",
     "output_type": "stream",
     "text": [
      "Mathlib/Tactic.lean\n",
      "217\n"
     ]
    }
   ],
   "source": [
    "for x , y in lean_file_dict.items() :  # a dict of files with their lines in mathlib\n",
    "    print(x) # the file name \n",
    "    print(len(y)) #Number of lines you have in the file\n",
    "    break"
   ]
  },
  {
   "cell_type": "markdown",
   "id": "bbbd0ab9-cadb-44c6-980c-71d7b1cd6b8a",
   "metadata": {},
   "source": [
    "# Read LeanDojo Data"
   ]
  },
  {
   "cell_type": "code",
   "execution_count": 4,
   "id": "61a0a88f-a3ba-455f-8a17-45fe75deb691",
   "metadata": {},
   "outputs": [],
   "source": [
    "train_path = LeanDojo_DIR / \"random/train.json\"\n",
    "val_path = LeanDojo_DIR / \"random/val.json\"\n",
    "test_path = LeanDojo_DIR / \"random/test.json\"\n",
    "proofs_train = json.load(train_path.open())\n",
    "proofs_val = json.load(val_path.open())\n",
    "proofs_test = json.load(test_path.open())"
   ]
  },
  {
   "cell_type": "code",
   "execution_count": 5,
   "id": "26e66f53-96bd-42c5-8fff-6ea5af69fb73",
   "metadata": {},
   "outputs": [
    {
     "name": "stdout",
     "output_type": "stream",
     "text": [
      "118517\n",
      "2000\n",
      "2000\n"
     ]
    }
   ],
   "source": [
    "print(len(proofs_train))\n",
    "print(len(proofs_val))\n",
    "print(len(proofs_test))"
   ]
  },
  {
   "cell_type": "code",
   "execution_count": 6,
   "id": "6a9ca7a8",
   "metadata": {},
   "outputs": [
    {
     "name": "stdout",
     "output_type": "stream",
     "text": [
      "{'url': 'https://github.com/leanprover-community/mathlib4', 'commit': '29dcec074de168ac2bf835a77ef68bbe069194c5', 'file_path': 'Mathlib/RingTheory/IntegralRestrict.lean', 'full_name': 'Algebra.intTrace_eq_trace', 'start': [216, 1], 'end': [223, 81], 'traced_tactics': [{'tactic': 'ext x', 'annotated_tactic': ['ext x', []], 'state_before': 'A : Type u_1\\nK : Type u_2\\nL : Type u_3\\nB : Type u_4\\ninst✝³⁰ : CommRing A\\ninst✝²⁹ : CommRing B\\ninst✝²⁸ : Algebra A B\\ninst✝²⁷ : Field K\\ninst✝²⁶ : Field L\\ninst✝²⁵ : Algebra A K\\ninst✝²⁴ : IsFractionRing A K\\ninst✝²³ : Algebra B L\\ninst✝²² : Algebra K L\\ninst✝²¹ : Algebra A L\\ninst✝²⁰ : IsScalarTower A B L\\ninst✝¹⁹ : IsScalarTower A K L\\ninst✝¹⁸ : IsIntegralClosure B A L\\ninst✝¹⁷ : FiniteDimensional K L\\nAₘ : Type ?u.319125\\nBₘ : Type ?u.319128\\ninst✝¹⁶ : CommRing Aₘ\\ninst✝¹⁵ : CommRing Bₘ\\ninst✝¹⁴ : Algebra Aₘ Bₘ\\ninst✝¹³ : Algebra A Aₘ\\ninst✝¹² : Algebra B Bₘ\\ninst✝¹¹ : Algebra A Bₘ\\ninst✝¹⁰ : IsScalarTower A Aₘ Bₘ\\ninst✝⁹ : IsScalarTower A B Bₘ\\nM : Submonoid A\\ninst✝⁸ : IsLocalization M Aₘ\\ninst✝⁷ : IsLocalization (algebraMapSubmonoid B M) Bₘ\\ninst✝⁶ : IsDomain A\\ninst✝⁵ : IsIntegrallyClosed A\\ninst✝⁴ : IsDomain B\\ninst✝³ : IsIntegrallyClosed B\\ninst✝² : Module.Finite A B\\ninst✝¹ : NoZeroSMulDivisors A B\\ninst✝ : Module.Free A B\\n⊢ intTrace A B = trace A B', 'state_after': 'case h\\nA : Type u_1\\nK : Type u_2\\nL : Type u_3\\nB : Type u_4\\ninst✝³⁰ : CommRing A\\ninst✝²⁹ : CommRing B\\ninst✝²⁸ : Algebra A B\\ninst✝²⁷ : Field K\\ninst✝²⁶ : Field L\\ninst✝²⁵ : Algebra A K\\ninst✝²⁴ : IsFractionRing A K\\ninst✝²³ : Algebra B L\\ninst✝²² : Algebra K L\\ninst✝²¹ : Algebra A L\\ninst✝²⁰ : IsScalarTower A B L\\ninst✝¹⁹ : IsScalarTower A K L\\ninst✝¹⁸ : IsIntegralClosure B A L\\ninst✝¹⁷ : FiniteDimensional K L\\nAₘ : Type ?u.319125\\nBₘ : Type ?u.319128\\ninst✝¹⁶ : CommRing Aₘ\\ninst✝¹⁵ : CommRing Bₘ\\ninst✝¹⁴ : Algebra Aₘ Bₘ\\ninst✝¹³ : Algebra A Aₘ\\ninst✝¹² : Algebra B Bₘ\\ninst✝¹¹ : Algebra A Bₘ\\ninst✝¹⁰ : IsScalarTower A Aₘ Bₘ\\ninst✝⁹ : IsScalarTower A B Bₘ\\nM : Submonoid A\\ninst✝⁸ : IsLocalization M Aₘ\\ninst✝⁷ : IsLocalization (algebraMapSubmonoid B M) Bₘ\\ninst✝⁶ : IsDomain A\\ninst✝⁵ : IsIntegrallyClosed A\\ninst✝⁴ : IsDomain B\\ninst✝³ : IsIntegrallyClosed B\\ninst✝² : Module.Finite A B\\ninst✝¹ : NoZeroSMulDivisors A B\\ninst✝ : Module.Free A B\\nx : B\\n⊢ (intTrace A B) x = (trace A B) x'}, {'tactic': 'haveI : IsIntegralClosure B A (FractionRing B) :=\\n  IsIntegralClosure.of_isIntegrallyClosed _ _ _', 'annotated_tactic': ['haveI : <a>IsIntegralClosure</a> B A (<a>FractionRing</a> B) :=\\n    <a>IsIntegralClosure.of_isIntegrallyClosed</a> _ _ _', [{'full_name': 'IsIntegralClosure', 'def_path': 'Mathlib/RingTheory/IntegralClosure.lean', 'def_pos': [716, 7], 'def_end_pos': [716, 24]}, {'full_name': 'FractionRing', 'def_path': 'Mathlib/RingTheory/Localization/FractionRing.lean', 'def_pos': [289, 8], 'def_end_pos': [289, 20]}, {'full_name': 'IsIntegralClosure.of_isIntegrallyClosed', 'def_path': 'Mathlib/RingTheory/IntegrallyClosed.lean', 'def_pos': [223, 10], 'def_end_pos': [223, 56]}]], 'state_before': 'case h\\nA : Type u_1\\nK : Type u_2\\nL : Type u_3\\nB : Type u_4\\ninst✝³⁰ : CommRing A\\ninst✝²⁹ : CommRing B\\ninst✝²⁸ : Algebra A B\\ninst✝²⁷ : Field K\\ninst✝²⁶ : Field L\\ninst✝²⁵ : Algebra A K\\ninst✝²⁴ : IsFractionRing A K\\ninst✝²³ : Algebra B L\\ninst✝²² : Algebra K L\\ninst✝²¹ : Algebra A L\\ninst✝²⁰ : IsScalarTower A B L\\ninst✝¹⁹ : IsScalarTower A K L\\ninst✝¹⁸ : IsIntegralClosure B A L\\ninst✝¹⁷ : FiniteDimensional K L\\nAₘ : Type ?u.319125\\nBₘ : Type ?u.319128\\ninst✝¹⁶ : CommRing Aₘ\\ninst✝¹⁵ : CommRing Bₘ\\ninst✝¹⁴ : Algebra Aₘ Bₘ\\ninst✝¹³ : Algebra A Aₘ\\ninst✝¹² : Algebra B Bₘ\\ninst✝¹¹ : Algebra A Bₘ\\ninst✝¹⁰ : IsScalarTower A Aₘ Bₘ\\ninst✝⁹ : IsScalarTower A B Bₘ\\nM : Submonoid A\\ninst✝⁸ : IsLocalization M Aₘ\\ninst✝⁷ : IsLocalization (algebraMapSubmonoid B M) Bₘ\\ninst✝⁶ : IsDomain A\\ninst✝⁵ : IsIntegrallyClosed A\\ninst✝⁴ : IsDomain B\\ninst✝³ : IsIntegrallyClosed B\\ninst✝² : Module.Finite A B\\ninst✝¹ : NoZeroSMulDivisors A B\\ninst✝ : Module.Free A B\\nx : B\\n⊢ (intTrace A B) x = (trace A B) x', 'state_after': 'case h\\nA : Type u_1\\nK : Type u_2\\nL : Type u_3\\nB : Type u_4\\ninst✝³⁰ : CommRing A\\ninst✝²⁹ : CommRing B\\ninst✝²⁸ : Algebra A B\\ninst✝²⁷ : Field K\\ninst✝²⁶ : Field L\\ninst✝²⁵ : Algebra A K\\ninst✝²⁴ : IsFractionRing A K\\ninst✝²³ : Algebra B L\\ninst✝²² : Algebra K L\\ninst✝²¹ : Algebra A L\\ninst✝²⁰ : IsScalarTower A B L\\ninst✝¹⁹ : IsScalarTower A K L\\ninst✝¹⁸ : IsIntegralClosure B A L\\ninst✝¹⁷ : FiniteDimensional K L\\nAₘ : Type ?u.319125\\nBₘ : Type ?u.319128\\ninst✝¹⁶ : CommRing Aₘ\\ninst✝¹⁵ : CommRing Bₘ\\ninst✝¹⁴ : Algebra Aₘ Bₘ\\ninst✝¹³ : Algebra A Aₘ\\ninst✝¹² : Algebra B Bₘ\\ninst✝¹¹ : Algebra A Bₘ\\ninst✝¹⁰ : IsScalarTower A Aₘ Bₘ\\ninst✝⁹ : IsScalarTower A B Bₘ\\nM : Submonoid A\\ninst✝⁸ : IsLocalization M Aₘ\\ninst✝⁷ : IsLocalization (algebraMapSubmonoid B M) Bₘ\\ninst✝⁶ : IsDomain A\\ninst✝⁵ : IsIntegrallyClosed A\\ninst✝⁴ : IsDomain B\\ninst✝³ : IsIntegrallyClosed B\\ninst✝² : Module.Finite A B\\ninst✝¹ : NoZeroSMulDivisors A B\\ninst✝ : Module.Free A B\\nx : B\\nthis : IsIntegralClosure B A (FractionRing B)\\n⊢ (intTrace A B) x = (trace A B) x'}, {'tactic': 'haveI : IsLocalization (algebraMapSubmonoid B A⁰) (FractionRing B) :=\\n  IsIntegralClosure.isLocalization _ (FractionRing A) _ _', 'annotated_tactic': ['haveI : <a>IsLocalization</a> (<a>algebraMapSubmonoid</a> B A⁰) (<a>FractionRing</a> B) :=\\n    <a>IsIntegralClosure.isLocalization</a> _ (<a>FractionRing</a> A) _ _', [{'full_name': 'IsLocalization', 'def_path': 'Mathlib/RingTheory/Localization/Basic.lean', 'def_pos': [96, 17], 'def_end_pos': [96, 31]}, {'full_name': 'Algebra.algebraMapSubmonoid', 'def_path': 'Mathlib/Algebra/Algebra/Basic.lean', 'def_pos': [122, 5], 'def_end_pos': [122, 24]}, {'full_name': 'FractionRing', 'def_path': 'Mathlib/RingTheory/Localization/FractionRing.lean', 'def_pos': [289, 8], 'def_end_pos': [289, 20]}, {'full_name': 'IsIntegralClosure.isLocalization', 'def_path': 'Mathlib/RingTheory/DedekindDomain/IntegralClosure.lean', 'def_pos': [65, 9], 'def_end_pos': [65, 41]}, {'full_name': 'FractionRing', 'def_path': 'Mathlib/RingTheory/Localization/FractionRing.lean', 'def_pos': [289, 8], 'def_end_pos': [289, 20]}]], 'state_before': 'case h\\nA : Type u_1\\nK : Type u_2\\nL : Type u_3\\nB : Type u_4\\ninst✝³⁰ : CommRing A\\ninst✝²⁹ : CommRing B\\ninst✝²⁸ : Algebra A B\\ninst✝²⁷ : Field K\\ninst✝²⁶ : Field L\\ninst✝²⁵ : Algebra A K\\ninst✝²⁴ : IsFractionRing A K\\ninst✝²³ : Algebra B L\\ninst✝²² : Algebra K L\\ninst✝²¹ : Algebra A L\\ninst✝²⁰ : IsScalarTower A B L\\ninst✝¹⁹ : IsScalarTower A K L\\ninst✝¹⁸ : IsIntegralClosure B A L\\ninst✝¹⁷ : FiniteDimensional K L\\nAₘ : Type ?u.319125\\nBₘ : Type ?u.319128\\ninst✝¹⁶ : CommRing Aₘ\\ninst✝¹⁵ : CommRing Bₘ\\ninst✝¹⁴ : Algebra Aₘ Bₘ\\ninst✝¹³ : Algebra A Aₘ\\ninst✝¹² : Algebra B Bₘ\\ninst✝¹¹ : Algebra A Bₘ\\ninst✝¹⁰ : IsScalarTower A Aₘ Bₘ\\ninst✝⁹ : IsScalarTower A B Bₘ\\nM : Submonoid A\\ninst✝⁸ : IsLocalization M Aₘ\\ninst✝⁷ : IsLocalization (algebraMapSubmonoid B M) Bₘ\\ninst✝⁶ : IsDomain A\\ninst✝⁵ : IsIntegrallyClosed A\\ninst✝⁴ : IsDomain B\\ninst✝³ : IsIntegrallyClosed B\\ninst✝² : Module.Finite A B\\ninst✝¹ : NoZeroSMulDivisors A B\\ninst✝ : Module.Free A B\\nx : B\\nthis : IsIntegralClosure B A (FractionRing B)\\n⊢ (intTrace A B) x = (trace A B) x', 'state_after': 'case h\\nA : Type u_1\\nK : Type u_2\\nL : Type u_3\\nB : Type u_4\\ninst✝³⁰ : CommRing A\\ninst✝²⁹ : CommRing B\\ninst✝²⁸ : Algebra A B\\ninst✝²⁷ : Field K\\ninst✝²⁶ : Field L\\ninst✝²⁵ : Algebra A K\\ninst✝²⁴ : IsFractionRing A K\\ninst✝²³ : Algebra B L\\ninst✝²² : Algebra K L\\ninst✝²¹ : Algebra A L\\ninst✝²⁰ : IsScalarTower A B L\\ninst✝¹⁹ : IsScalarTower A K L\\ninst✝¹⁸ : IsIntegralClosure B A L\\ninst✝¹⁷ : FiniteDimensional K L\\nAₘ : Type ?u.319125\\nBₘ : Type ?u.319128\\ninst✝¹⁶ : CommRing Aₘ\\ninst✝¹⁵ : CommRing Bₘ\\ninst✝¹⁴ : Algebra Aₘ Bₘ\\ninst✝¹³ : Algebra A Aₘ\\ninst✝¹² : Algebra B Bₘ\\ninst✝¹¹ : Algebra A Bₘ\\ninst✝¹⁰ : IsScalarTower A Aₘ Bₘ\\ninst✝⁹ : IsScalarTower A B Bₘ\\nM : Submonoid A\\ninst✝⁸ : IsLocalization M Aₘ\\ninst✝⁷ : IsLocalization (algebraMapSubmonoid B M) Bₘ\\ninst✝⁶ : IsDomain A\\ninst✝⁵ : IsIntegrallyClosed A\\ninst✝⁴ : IsDomain B\\ninst✝³ : IsIntegrallyClosed B\\ninst✝² : Module.Finite A B\\ninst✝¹ : NoZeroSMulDivisors A B\\ninst✝ : Module.Free A B\\nx : B\\nthis✝ : IsIntegralClosure B A (FractionRing B)\\nthis : IsLocalization (algebraMapSubmonoid B A⁰) (FractionRing B)\\n⊢ (intTrace A B) x = (trace A B) x'}, {'tactic': 'apply IsFractionRing.injective A (FractionRing A)', 'annotated_tactic': ['apply <a>IsFractionRing.injective</a> A (<a>FractionRing</a> A)', [{'full_name': 'IsFractionRing.injective', 'def_path': 'Mathlib/RingTheory/Localization/FractionRing.lean', 'def_pos': [82, 19], 'def_end_pos': [82, 28]}, {'full_name': 'FractionRing', 'def_path': 'Mathlib/RingTheory/Localization/FractionRing.lean', 'def_pos': [289, 8], 'def_end_pos': [289, 20]}]], 'state_before': 'case h\\nA : Type u_1\\nK : Type u_2\\nL : Type u_3\\nB : Type u_4\\ninst✝³⁰ : CommRing A\\ninst✝²⁹ : CommRing B\\ninst✝²⁸ : Algebra A B\\ninst✝²⁷ : Field K\\ninst✝²⁶ : Field L\\ninst✝²⁵ : Algebra A K\\ninst✝²⁴ : IsFractionRing A K\\ninst✝²³ : Algebra B L\\ninst✝²² : Algebra K L\\ninst✝²¹ : Algebra A L\\ninst✝²⁰ : IsScalarTower A B L\\ninst✝¹⁹ : IsScalarTower A K L\\ninst✝¹⁸ : IsIntegralClosure B A L\\ninst✝¹⁷ : FiniteDimensional K L\\nAₘ : Type ?u.319125\\nBₘ : Type ?u.319128\\ninst✝¹⁶ : CommRing Aₘ\\ninst✝¹⁵ : CommRing Bₘ\\ninst✝¹⁴ : Algebra Aₘ Bₘ\\ninst✝¹³ : Algebra A Aₘ\\ninst✝¹² : Algebra B Bₘ\\ninst✝¹¹ : Algebra A Bₘ\\ninst✝¹⁰ : IsScalarTower A Aₘ Bₘ\\ninst✝⁹ : IsScalarTower A B Bₘ\\nM : Submonoid A\\ninst✝⁸ : IsLocalization M Aₘ\\ninst✝⁷ : IsLocalization (algebraMapSubmonoid B M) Bₘ\\ninst✝⁶ : IsDomain A\\ninst✝⁵ : IsIntegrallyClosed A\\ninst✝⁴ : IsDomain B\\ninst✝³ : IsIntegrallyClosed B\\ninst✝² : Module.Finite A B\\ninst✝¹ : NoZeroSMulDivisors A B\\ninst✝ : Module.Free A B\\nx : B\\nthis✝ : IsIntegralClosure B A (FractionRing B)\\nthis : IsLocalization (algebraMapSubmonoid B A⁰) (FractionRing B)\\n⊢ (intTrace A B) x = (trace A B) x', 'state_after': 'case h.a\\nA : Type u_1\\nK : Type u_2\\nL : Type u_3\\nB : Type u_4\\ninst✝³⁰ : CommRing A\\ninst✝²⁹ : CommRing B\\ninst✝²⁸ : Algebra A B\\ninst✝²⁷ : Field K\\ninst✝²⁶ : Field L\\ninst✝²⁵ : Algebra A K\\ninst✝²⁴ : IsFractionRing A K\\ninst✝²³ : Algebra B L\\ninst✝²² : Algebra K L\\ninst✝²¹ : Algebra A L\\ninst✝²⁰ : IsScalarTower A B L\\ninst✝¹⁹ : IsScalarTower A K L\\ninst✝¹⁸ : IsIntegralClosure B A L\\ninst✝¹⁷ : FiniteDimensional K L\\nAₘ : Type ?u.319125\\nBₘ : Type ?u.319128\\ninst✝¹⁶ : CommRing Aₘ\\ninst✝¹⁵ : CommRing Bₘ\\ninst✝¹⁴ : Algebra Aₘ Bₘ\\ninst✝¹³ : Algebra A Aₘ\\ninst✝¹² : Algebra B Bₘ\\ninst✝¹¹ : Algebra A Bₘ\\ninst✝¹⁰ : IsScalarTower A Aₘ Bₘ\\ninst✝⁹ : IsScalarTower A B Bₘ\\nM : Submonoid A\\ninst✝⁸ : IsLocalization M Aₘ\\ninst✝⁷ : IsLocalization (algebraMapSubmonoid B M) Bₘ\\ninst✝⁶ : IsDomain A\\ninst✝⁵ : IsIntegrallyClosed A\\ninst✝⁴ : IsDomain B\\ninst✝³ : IsIntegrallyClosed B\\ninst✝² : Module.Finite A B\\ninst✝¹ : NoZeroSMulDivisors A B\\ninst✝ : Module.Free A B\\nx : B\\nthis✝ : IsIntegralClosure B A (FractionRing B)\\nthis : IsLocalization (algebraMapSubmonoid B A⁰) (FractionRing B)\\n⊢ (algebraMap A (FractionRing A)) ((intTrace A B) x) = (algebraMap A (FractionRing A)) ((trace A B) x)'}, {'tactic': 'rw [Algebra.algebraMap_intTrace_fractionRing, Algebra.trace_localization A A⁰]', 'annotated_tactic': ['rw [<a>Algebra.algebraMap_intTrace_fractionRing</a>, <a>Algebra.trace_localization</a> A A⁰]', [{'full_name': 'Algebra.algebraMap_intTrace_fractionRing', 'def_path': 'Mathlib/RingTheory/IntegralRestrict.lean', 'def_pos': [203, 7], 'def_end_pos': [203, 47]}, {'full_name': 'Algebra.trace_localization', 'def_path': 'Mathlib/RingTheory/Localization/NormTrace.lean', 'def_pos': [83, 9], 'def_end_pos': [83, 35]}]], 'state_before': 'case h.a\\nA : Type u_1\\nK : Type u_2\\nL : Type u_3\\nB : Type u_4\\ninst✝³⁰ : CommRing A\\ninst✝²⁹ : CommRing B\\ninst✝²⁸ : Algebra A B\\ninst✝²⁷ : Field K\\ninst✝²⁶ : Field L\\ninst✝²⁵ : Algebra A K\\ninst✝²⁴ : IsFractionRing A K\\ninst✝²³ : Algebra B L\\ninst✝²² : Algebra K L\\ninst✝²¹ : Algebra A L\\ninst✝²⁰ : IsScalarTower A B L\\ninst✝¹⁹ : IsScalarTower A K L\\ninst✝¹⁸ : IsIntegralClosure B A L\\ninst✝¹⁷ : FiniteDimensional K L\\nAₘ : Type ?u.319125\\nBₘ : Type ?u.319128\\ninst✝¹⁶ : CommRing Aₘ\\ninst✝¹⁵ : CommRing Bₘ\\ninst✝¹⁴ : Algebra Aₘ Bₘ\\ninst✝¹³ : Algebra A Aₘ\\ninst✝¹² : Algebra B Bₘ\\ninst✝¹¹ : Algebra A Bₘ\\ninst✝¹⁰ : IsScalarTower A Aₘ Bₘ\\ninst✝⁹ : IsScalarTower A B Bₘ\\nM : Submonoid A\\ninst✝⁸ : IsLocalization M Aₘ\\ninst✝⁷ : IsLocalization (algebraMapSubmonoid B M) Bₘ\\ninst✝⁶ : IsDomain A\\ninst✝⁵ : IsIntegrallyClosed A\\ninst✝⁴ : IsDomain B\\ninst✝³ : IsIntegrallyClosed B\\ninst✝² : Module.Finite A B\\ninst✝¹ : NoZeroSMulDivisors A B\\ninst✝ : Module.Free A B\\nx : B\\nthis✝ : IsIntegralClosure B A (FractionRing B)\\nthis : IsLocalization (algebraMapSubmonoid B A⁰) (FractionRing B)\\n⊢ (algebraMap A (FractionRing A)) ((intTrace A B) x) = (algebraMap A (FractionRing A)) ((trace A B) x)', 'state_after': 'no goals'}]}\n",
      "Mathlib/RingTheory/IntegralRestrict.lean\n"
     ]
    }
   ],
   "source": [
    "for x in proofs_train : \n",
    "    print(x)\n",
    "    print(x['file_path'])\n",
    "    break"
   ]
  },
  {
   "cell_type": "code",
   "execution_count": 7,
   "id": "0c25b744-9770-4f9c-988e-94cc51235ab3",
   "metadata": {},
   "outputs": [
    {
     "name": "stdout",
     "output_type": "stream",
     "text": [
      "3606\n",
      "61544\n"
     ]
    }
   ],
   "source": [
    "from collections import defaultdict\n",
    "# What is leandojo dataset : extracted form of Mathlib, contain the tactics extracted / \n",
    "# load the leandojo dataseet\n",
    "# use the train/eval and test splits\n",
    "#  filter statemenets that they don't have tactics\n",
    "entry_dict = defaultdict(list)\n",
    "s=0\n",
    "p=0\n",
    "for entry in proofs_train + proofs_val + proofs_test:\n",
    "    p+=1\n",
    "    if len(entry['traced_tactics']) > 0:\n",
    "        s+=1\n",
    "        entry_dict[entry['file_path']].append(entry)\n",
    "    \n",
    "print(len(entry_dict))\n",
    "print(sum(len(v) for v in entry_dict.values()))"
   ]
  },
  {
   "cell_type": "code",
   "execution_count": 8,
   "id": "307f6481",
   "metadata": {},
   "outputs": [
    {
     "name": "stdout",
     "output_type": "stream",
     "text": [
      "50.23302888578728\n",
      "61544\n",
      "122517\n"
     ]
    }
   ],
   "source": [
    "print(s/p * 100)\n",
    "print(s)\n",
    "print(p)"
   ]
  },
  {
   "cell_type": "code",
   "execution_count": null,
   "id": "9e43d9e6",
   "metadata": {},
   "outputs": [
    {
     "name": "stdout",
     "output_type": "stream",
     "text": [
      "Mathlib/RingTheory/IntegralRestrict.lean\n",
      "Mathlib/RingTheory/IntegralRestrict.lean\n",
      "Algebra.intTrace_eq_trace\n",
      "[216, 1]\n",
      "[223, 81]\n",
      "['ext x', []]\n",
      "['haveI : <a>IsIntegralClosure</a> B A (<a>FractionRing</a> B) :=\\n    <a>IsIntegralClosure.of_isIntegrallyClosed</a> _ _ _', [{'full_name': 'IsIntegralClosure', 'def_path': 'Mathlib/RingTheory/IntegralClosure.lean', 'def_pos': [716, 7], 'def_end_pos': [716, 24]}, {'full_name': 'FractionRing', 'def_path': 'Mathlib/RingTheory/Localization/FractionRing.lean', 'def_pos': [289, 8], 'def_end_pos': [289, 20]}, {'full_name': 'IsIntegralClosure.of_isIntegrallyClosed', 'def_path': 'Mathlib/RingTheory/IntegrallyClosed.lean', 'def_pos': [223, 10], 'def_end_pos': [223, 56]}]]\n",
      "['haveI : <a>IsLocalization</a> (<a>algebraMapSubmonoid</a> B A⁰) (<a>FractionRing</a> B) :=\\n    <a>IsIntegralClosure.isLocalization</a> _ (<a>FractionRing</a> A) _ _', [{'full_name': 'IsLocalization', 'def_path': 'Mathlib/RingTheory/Localization/Basic.lean', 'def_pos': [96, 17], 'def_end_pos': [96, 31]}, {'full_name': 'Algebra.algebraMapSubmonoid', 'def_path': 'Mathlib/Algebra/Algebra/Basic.lean', 'def_pos': [122, 5], 'def_end_pos': [122, 24]}, {'full_name': 'FractionRing', 'def_path': 'Mathlib/RingTheory/Localization/FractionRing.lean', 'def_pos': [289, 8], 'def_end_pos': [289, 20]}, {'full_name': 'IsIntegralClosure.isLocalization', 'def_path': 'Mathlib/RingTheory/DedekindDomain/IntegralClosure.lean', 'def_pos': [65, 9], 'def_end_pos': [65, 41]}, {'full_name': 'FractionRing', 'def_path': 'Mathlib/RingTheory/Localization/FractionRing.lean', 'def_pos': [289, 8], 'def_end_pos': [289, 20]}]]\n",
      "['apply <a>IsFractionRing.injective</a> A (<a>FractionRing</a> A)', [{'full_name': 'IsFractionRing.injective', 'def_path': 'Mathlib/RingTheory/Localization/FractionRing.lean', 'def_pos': [82, 19], 'def_end_pos': [82, 28]}, {'full_name': 'FractionRing', 'def_path': 'Mathlib/RingTheory/Localization/FractionRing.lean', 'def_pos': [289, 8], 'def_end_pos': [289, 20]}]]\n",
      "['rw [<a>Algebra.algebraMap_intTrace_fractionRing</a>, <a>Algebra.trace_localization</a> A A⁰]', [{'full_name': 'Algebra.algebraMap_intTrace_fractionRing', 'def_path': 'Mathlib/RingTheory/IntegralRestrict.lean', 'def_pos': [203, 7], 'def_end_pos': [203, 47]}, {'full_name': 'Algebra.trace_localization', 'def_path': 'Mathlib/RingTheory/Localization/NormTrace.lean', 'def_pos': [83, 9], 'def_end_pos': [83, 35]}]]\n"
     ]
    }
   ],
   "source": [
    "for x,y in entry_dict.items() :\n",
    "    print(x)\n",
    "    for z in y :# z is a thoerem\n",
    "        print(z['file_path'])\n",
    "        print(z['full_name'])\n",
    "        print(z['start'])\n",
    "        print(z['end'])\n",
    "        \n",
    "        for tact in z['traced_tactics'] :   # z : dict_keys(['url', 'commit', 'file_path', 'full_name', 'start', 'end', 'traced_tactics'])\n",
    "            print(tact['annotated_tactic']) # dict_keys(['tactic', 'annotated_tactic', 'state_before', 'state_after']) tactic : actual tactic  / annotated_tactic : the information regarding the theorems using in this tactic ( their position in the mathlib library)\n",
    "        break #means that we have 16 statement in this file ? \n",
    "    break"
   ]
  },
  {
   "cell_type": "code",
   "execution_count": 10,
   "id": "5d7732f1",
   "metadata": {},
   "outputs": [],
   "source": [
    "l1 = list(entry_dict.keys())\n",
    "l2 = list(lean_file_dict.keys())"
   ]
  },
  {
   "cell_type": "code",
   "execution_count": 11,
   "id": "e52c5868",
   "metadata": {},
   "outputs": [
    {
     "name": "stdout",
     "output_type": "stream",
     "text": [
      "875\n",
      "3606\n",
      "4360\n"
     ]
    }
   ],
   "source": [
    "s = 0\n",
    "for x in l2 : \n",
    "    if x not in l1 : \n",
    "        s+=1\n",
    "\n",
    "print(s)\n",
    "print(len(l1))\n",
    "print(len(l2))"
   ]
  },
  {
   "cell_type": "code",
   "execution_count": 12,
   "id": "1bc0c256-030d-4ad4-a434-1ba5922ceac5",
   "metadata": {},
   "outputs": [],
   "source": [
    "def get_statement(theorem_str):\n",
    "    return theorem_str.split(':=')[0].strip()"
   ]
  },
  {
   "cell_type": "code",
   "execution_count": 13,
   "id": "18304acd-d05f-4347-8881-13f5c50be7b8",
   "metadata": {},
   "outputs": [
    {
     "name": "stderr",
     "output_type": "stream",
     "text": [
      "  0%|          | 0/4360 [00:00<?, ?it/s]"
     ]
    },
    {
     "name": "stderr",
     "output_type": "stream",
     "text": [
      "100%|██████████| 4360/4360 [00:01<00:00, 3283.22it/s]"
     ]
    },
    {
     "name": "stdout",
     "output_type": "stream",
     "text": [
      "[warning] # Files without theorem: 875\n",
      "# Mathlib theorems: 59750\n"
     ]
    },
    {
     "name": "stderr",
     "output_type": "stream",
     "text": [
      "\n"
     ]
    }
   ],
   "source": [
    "mathlib_theorems = []\n",
    "theorem_dict = {}\n",
    "\n",
    "empty_file = 0\n",
    "for file_name in tqdm(lean_file_dict.keys()):\n",
    "    if (len(entry_dict[file_name]) == 0): # if file name does not exist in Leandojo\n",
    "        empty_file += 1\n",
    "        continue\n",
    "    lines = lean_file_dict[file_name]\n",
    "    entries = entry_dict[file_name]\n",
    "    entries = sorted(entries, key = lambda x: x['start'][0])\n",
    "#    print(entries[0]['start'][0])\n",
    " #   break\n",
    "    for entry in entries:\n",
    "        theorem_str = ''.join(lines[entry['start'][0] - 1: entry['end'][0]]) \n",
    "   # and this enable us \n",
    "        theorem_item = (file_name, theorem_str)\n",
    "        mathlib_theorems.append(theorem_item)\n",
    "        theorem_dict[entry['full_name']] = theorem_item # what is the full_name ? the theorem full name\n",
    "    \n",
    "print('[warning] # Files without theorem:', empty_file)\n",
    "print('# Mathlib theorems:', len(mathlib_theorems))"
   ]
  },
  {
   "cell_type": "code",
   "execution_count": null,
   "id": "5c9dc724",
   "metadata": {},
   "outputs": [
    {
     "name": "stdout",
     "output_type": "stream",
     "text": [
      "FirstOrder.Language.Term.listDecode_encode_list\n",
      "theorem listDecode_encode_list (l : List (L.Term α)) :\n",
      "    listDecode (l.bind listEncode) = l.map Option.some := by\n",
      "  suffices h : ∀ (t : L.Term α) (l : List (Sum α (Σi, L.Functions i))),\n",
      "      listDecode (t.listEncode ++ l) = some t::listDecode l by\n",
      "    induction' l with t l lih\n",
      "    · rfl\n",
      "    · rw [cons_bind, h t (l.bind listEncode), lih, List.map]\n",
      "  intro t\n",
      "  induction' t with a n f ts ih <;> intro l\n",
      "  · rw [listEncode, singleton_append, listDecode]\n",
      "  · rw [listEncode, cons_append, listDecode]\n",
      "    have h : listDecode (((finRange n).bind fun i : Fin n => (ts i).listEncode) ++ l) =\n",
      "        (finRange n).map (Option.some ∘ ts) ++ listDecode l := by\n",
      "      induction' finRange n with i l' l'ih\n",
      "      · rfl\n",
      "      · rw [cons_bind, List.append_assoc, ih, map_cons, l'ih, cons_append, Function.comp]\n",
      "    have h' : ∀ i : Fin n,\n",
      "        (listDecode (((finRange n).bind fun i : Fin n => (ts i).listEncode) ++ l)).get? ↑i =\n",
      "          some (some (ts i)) := by\n",
      "      intro i\n",
      "      rw [h, get?_append, get?_map]\n",
      "      · simp only [Option.map_eq_some', Function.comp_apply, get?_eq_some]\n",
      "        refine ⟨i, ⟨lt_of_lt_of_le i.2 (ge_of_eq (length_finRange _)), ?_⟩, rfl⟩\n",
      "        rw [get_finRange, Fin.eta]\n",
      "      · refine lt_of_lt_of_le i.2 ?_\n",
      "        simp\n",
      "    refine (dif_pos fun i => Option.isSome_iff_exists.2 ⟨ts i, ?_⟩).trans ?_\n",
      "    · rw [Option.join_eq_some, h']\n",
      "    refine congr (congr rfl (congr rfl (congr rfl (funext fun i => Option.get_of_mem _ ?_)))) ?_\n",
      "    · simp [h']\n",
      "    · rw [h, drop_left']\n",
      "      rw [length_map, length_finRange]\n",
      "\n"
     ]
    }
   ],
   "source": [
    "for x, y in theorem_dict.items() :  # therem dict contains pairs of (file_name, thorem str with proof )\n",
    "    print(x)\n",
    "    print(y[1])\n",
    "    break"
   ]
  },
  {
   "cell_type": "code",
   "execution_count": null,
   "id": "12f8d2ca-ba87-4774-95c5-cd9d77c2452b",
   "metadata": {},
   "outputs": [
    {
     "name": "stderr",
     "output_type": "stream",
     "text": [
      "  0%|          | 0/4360 [00:00<?, ?it/s]"
     ]
    },
    {
     "name": "stderr",
     "output_type": "stream",
     "text": [
      "100%|██████████| 4360/4360 [00:01<00:00, 2787.82it/s]"
     ]
    },
    {
     "name": "stdout",
     "output_type": "stream",
     "text": [
      "79579\n",
      "# Conjecture examples: 51369\n"
     ]
    },
    {
     "name": "stderr",
     "output_type": "stream",
     "text": [
      "\n"
     ]
    }
   ],
   "source": [
    "sum_premises = 0\n",
    "conjecture_examples = [] # examples of the conjecture\n",
    "\n",
    "try:\n",
    "    for file_name in tqdm(lean_file_dict.keys()):\n",
    "        if (len(entry_dict[file_name]) == 0):\n",
    "            empty_file += 1\n",
    "            continue\n",
    "    \n",
    "        theorems_in_file = []\n",
    "        lines = lean_file_dict[file_name]\n",
    "        entries = entry_dict[file_name]\n",
    "        entries = sorted(entries, key = lambda x: x['start'][0]) # sort as a function of lines\n",
    "        \n",
    "        for entry in entries:\n",
    "            theorem_str = ''.join(lines[entry['start'][0] - 1: entry['end'][0]])\n",
    "            contexts = ''.join(lines[:entry['start'][0] - 1]).strip() # this all the theorems that were used before the current theorem + variables\n",
    "            \n",
    "            premises = set()\n",
    "            for tactics in entry['traced_tactics']: # for every tactic\n",
    "                for p in tactics['annotated_tactic'][1]: # for every theorem used in this tactic\n",
    "                    if p['full_name'] in theorem_dict:\n",
    "                        premises.add(p['full_name']) # we add the thorem that were used in the current proof\n",
    "    \n",
    "            for p_name in premises: # For all permises used in the proof,  \n",
    "                for p_context, p_theorem, p_premises in reversed(theorems_in_file):\n",
    "                    if p_name in p_premises: #  if there is a lemma used in this proof and another proof\n",
    "                        conjecture_examples.append((file_name, p_context, p_theorem, theorem_dict[p_name][1], theorem_str))\n",
    "                                    # we add file_name of the file of the current proof, context_of_the_last_theorem, last_theorem, commun lemma, current_theorem\n",
    "            theorems_in_file.append((contexts, theorem_str, premises)) # (what is before the thorem, thoerem, list of lemma used in the proof)\n",
    "            sum_premises += len(premises) \n",
    "except:\n",
    "    pass\n",
    "print(sum_premises)\n",
    "print('# Conjecture examples:', len(conjecture_examples))"
   ]
  },
  {
   "cell_type": "code",
   "execution_count": 17,
   "id": "0eb1b50e-1c6c-41e4-95fb-d5086d23cbff",
   "metadata": {},
   "outputs": [
    {
     "data": {
      "text/plain": [
       "('theorem rightDual_ρ [RightRigidCategory V] (h : H) : Xᘁ.ρ h = (X.ρ (h⁻¹ : H))ᘁ := by\\n  rw [← SingleObj.inv_as_inv]; rfl\\n',\n",
       " '  apply IsIso.inv_eq_of_hom_inv_id\\n  rw [comp_as_mul, inv_mul_self, id_as_one]\\n#align category_theory.single_obj.inv_as_inv CategoryTheory.SingleObj.inv_as_inv\\n')"
      ]
     },
     "execution_count": 17,
     "metadata": {},
     "output_type": "execute_result"
    }
   ],
   "source": [
    "conjecture_examples[-1][2:4]"
   ]
  },
  {
   "cell_type": "code",
   "execution_count": 18,
   "id": "cf22a1b1",
   "metadata": {},
   "outputs": [
    {
     "name": "stdout",
     "output_type": "stream",
     "text": [
      "STP/SFT\n"
     ]
    }
   ],
   "source": [
    "print(Save_DIR)"
   ]
  },
  {
   "cell_type": "markdown",
   "id": "207e82fe-39e8-4157-9045-b9c5925f0793",
   "metadata": {},
   "source": [
    "# Construct dataset"
   ]
  },
  {
   "cell_type": "code",
   "execution_count": null,
   "id": "33d28b5b-a578-4379-8958-657d5bfadb49",
   "metadata": {},
   "outputs": [],
   "source": [
    "START_LEMMA_STMT = '<easy theorem>'\n",
    "START_THM = '<hard theorem>'\n",
    "END_THM = '</hard theorem>'\n",
    "INVOKED_LEMMA = '<lemma>'\n",
    "\n",
    "def format_conjecture_example(context, easy_theorem, shared_lemma, hard_theorem):\n",
    "    prompt = f'Complete the following Lean 4 code:\\n\\n```lean4\\n{context.strip()}\\n' \\\n",
    "          f'{INVOKED_LEMMA}\\n{shared_lemma.strip()}\\n{START_LEMMA_STMT}\\n' \\\n",
    "          f'{easy_theorem.strip()}\\n{START_THM}'\n",
    "    target = f'\\n{get_statement(hard_theorem).strip()}\\n{END_THM}'\n",
    "    return {'prompt': prompt, 'target': target}\n",
    "\n",
    "conjecture_ds = []\n",
    "for file_name, context, theorem, shared_lemma, theorem_str in conjecture_examples:\n",
    "    conjecture_ds.append(format_conjecture_example(context, theorem, shared_lemma, theorem_str)) # context is too big and we don't have it \n",
    "\n",
    "print(len(conjecture_ds))"
   ]
  },
  {
   "cell_type": "code",
   "execution_count": null,
   "id": "d478327b-5a39-41a2-ad7f-8b2ef8fe6a96",
   "metadata": {},
   "outputs": [],
   "source": [
    "with open(os.path.join(Save_DIR, 'conjecture.json'), 'w') as f:\n",
    "    json.dump(conjecture_ds, f)"
   ]
  },
  {
   "cell_type": "code",
   "execution_count": null,
   "id": "981b78db-4b94-4678-b30e-39174f498c08",
   "metadata": {},
   "outputs": [
    {
     "name": "stdout",
     "output_type": "stream",
     "text": [
      "Complete the following Lean 4 code:\n",
      "\n",
      "```lean4\n",
      "/-\n",
      "Copyright (c) 2021 Bryan Gin-ge Chen. All rights reserved.\n",
      "Released under Apache 2.0 license as described in the file LICENSE.\n",
      "Authors: Adam Topaz, Bryan Gin-ge Chen, Yaël Dillies\n",
      "-/\n",
      "import Mathlib.Order.BooleanAlgebra\n",
      "import Mathlib.Logic.Equiv.Basic\n",
      "\n",
      "#align_import order.symm_diff from \"leanprover-community/mathlib\"@\"6eb334bd8f3433d5b08ba156b8ec3e6af47e1904\"\n",
      "\n",
      "/-!\n",
      "# Symmetric difference and bi-implication\n",
      "\n",
      "This file defines the symmetric difference and bi-implication operators in (co-)Heyting algebras.\n",
      "\n",
      "## Examples\n",
      "\n",
      "Some examples are\n",
      "* The symmetric difference of two sets is the set of elements that are in either but not both.\n",
      "* The symmetric difference on propositions is `Xor'`.\n",
      "* The symmetric difference on `Bool` is `Bool.xor`.\n",
      "* The equivalence of propositions. Two propositions are equivalent if they imply each other.\n",
      "* The symmetric difference translates to addition when considering a Boolean algebra as a Boolean\n",
      "  ring.\n",
      "\n",
      "## Main declarations\n",
      "\n",
      "* `symmDiff`: The symmetric difference operator, defined as `(a \\ b) ⊔ (b \\ a)`\n",
      "* `bihimp`: The bi-implication operator, defined as `(b ⇨ a) ⊓ (a ⇨ b)`\n",
      "\n",
      "In generalized Boolean algebras, the symmetric difference operator is:\n",
      "\n",
      "* `symmDiff_comm`: commutative, and\n",
      "* `symmDiff_assoc`: associative.\n",
      "\n",
      "## Notations\n",
      "\n",
      "* `a ∆ b`: `symmDiff a b`\n",
      "* `a ⇔ b`: `bihimp a b`\n",
      "\n",
      "## References\n",
      "\n",
      "The proof of associativity follows the note \"Associativity of the Symmetric Difference of Sets: A\n",
      "Proof from the Book\" by John McCuan:\n",
      "\n",
      "* <https://people.math.gatech.edu/~mccuan/courses/4317/symmetricdifference.pdf>\n",
      "\n",
      "## Tags\n",
      "\n",
      "boolean ring, generalized boolean algebra, boolean algebra, symmetric difference, bi-implication,\n",
      "Heyting\n",
      "-/\n",
      "\n",
      "\n",
      "open Function OrderDual\n",
      "\n",
      "variable {ι α β : Type*} {π : ι → Type*}\n",
      "\n",
      "/-- The symmetric difference operator on a type with `⊔` and `\\` is `(A \\ B) ⊔ (B \\ A)`. -/\n",
      "def symmDiff [Sup α] [SDiff α] (a b : α) : α :=\n",
      "  a \\ b ⊔ b \\ a\n",
      "#align symm_diff symmDiff\n",
      "\n",
      "/-- The Heyting bi-implication is `(b ⇨ a) ⊓ (a ⇨ b)`. This generalizes equivalence of\n",
      "propositions. -/\n",
      "def bihimp [Inf α] [HImp α] (a b : α) : α :=\n",
      "  (b ⇨ a) ⊓ (a ⇨ b)\n",
      "#align bihimp bihimp\n",
      "\n",
      "/-- Notation for symmDiff -/\n",
      "scoped[symmDiff] infixl:100 \" ∆ \" => symmDiff\n",
      "\n",
      "/-- Notation for bihimp -/\n",
      "scoped[symmDiff] infixl:100 \" ⇔ \" => bihimp\n",
      "\n",
      "open scoped symmDiff\n",
      "\n",
      "theorem symmDiff_def [Sup α] [SDiff α] (a b : α) : a ∆ b = a \\ b ⊔ b \\ a :=\n",
      "  rfl\n",
      "#align symm_diff_def symmDiff_def\n",
      "\n",
      "theorem bihimp_def [Inf α] [HImp α] (a b : α) : a ⇔ b = (b ⇨ a) ⊓ (a ⇨ b) :=\n",
      "  rfl\n",
      "#align bihimp_def bihimp_def\n",
      "\n",
      "theorem symmDiff_eq_Xor' (p q : Prop) : p ∆ q = Xor' p q :=\n",
      "  rfl\n",
      "#align symm_diff_eq_xor symmDiff_eq_Xor'\n",
      "\n",
      "@[simp]\n",
      "theorem bihimp_iff_iff {p q : Prop} : p ⇔ q ↔ (p ↔ q) :=\n",
      "  (iff_iff_implies_and_implies _ _).symm.trans Iff.comm\n",
      "#align bihimp_iff_iff bihimp_iff_iff\n",
      "\n",
      "@[simp]\n",
      "theorem Bool.symmDiff_eq_xor : ∀ p q : Bool, p ∆ q = xor p q := by decide\n",
      "#align bool.symm_diff_eq_bxor Bool.symmDiff_eq_xor\n",
      "\n",
      "section GeneralizedCoheytingAlgebra\n",
      "\n",
      "variable [GeneralizedCoheytingAlgebra α] (a b c d : α)\n",
      "\n",
      "@[simp]\n",
      "theorem toDual_symmDiff : toDual (a ∆ b) = toDual a ⇔ toDual b :=\n",
      "  rfl\n",
      "#align to_dual_symm_diff toDual_symmDiff\n",
      "\n",
      "@[simp]\n",
      "theorem ofDual_bihimp (a b : αᵒᵈ) : ofDual (a ⇔ b) = ofDual a ∆ ofDual b :=\n",
      "  rfl\n",
      "#align of_dual_bihimp ofDual_bihimp\n",
      "\n",
      "theorem symmDiff_comm : a ∆ b = b ∆ a := by simp only [symmDiff, sup_comm]\n",
      "#align symm_diff_comm symmDiff_comm\n",
      "\n",
      "instance symmDiff_isCommutative : Std.Commutative (α := α) (· ∆ ·) :=\n",
      "  ⟨symmDiff_comm⟩\n",
      "#align symm_diff_is_comm symmDiff_isCommutative\n",
      "\n",
      "@[simp]\n",
      "theorem symmDiff_self : a ∆ a = ⊥ := by rw [symmDiff, sup_idem, sdiff_self]\n",
      "#align symm_diff_self symmDiff_self\n",
      "\n",
      "@[simp]\n",
      "theorem symmDiff_bot : a ∆ ⊥ = a := by rw [symmDiff, sdiff_bot, bot_sdiff, sup_bot_eq]\n",
      "#align symm_diff_bot symmDiff_bot\n",
      "\n",
      "@[simp]\n",
      "theorem bot_symmDiff : ⊥ ∆ a = a := by rw [symmDiff_comm, symmDiff_bot]\n",
      "#align bot_symm_diff bot_symmDiff\n",
      "\n",
      "@[simp]\n",
      "<lemma>\n",
      "theorem sdiff_eq_bot_iff : a \\ b = ⊥ ↔ a ≤ b := by rw [← le_bot_iff, sdiff_le_iff, sup_bot_eq]\n",
      "<easy theorem>\n",
      "theorem symmDiff_eq_bot {a b : α} : a ∆ b = ⊥ ↔ a = b := by\n",
      "  simp_rw [symmDiff, sup_eq_bot_iff, sdiff_eq_bot_iff, le_antisymm_iff]\n",
      "<hard theorem>\n",
      "\n",
      "theorem symmDiff_of_le {a b : α} (h : a ≤ b) : a ∆ b = b \\ a\n",
      "</hard theorem>\n"
     ]
    }
   ],
   "source": [
    "print(conjecture_ds[10]['prompt'])\n",
    "print(conjecture_ds[10]['target'])"
   ]
  },
  {
   "cell_type": "code",
   "execution_count": null,
   "id": "a953d29b-4e8f-4f0e-943e-fc7e4410bc03",
   "metadata": {},
   "outputs": [],
   "source": [
    "with open(os.path.join(Save_DIR, 'theorem_dict.pkl'), 'wb') as f:\n",
    "    pickle.dump(theorem_dict, f)"
   ]
  },
  {
   "cell_type": "code",
   "execution_count": null,
   "id": "308e7d6f-c1ae-4d34-8db8-5d89b2c823e4",
   "metadata": {},
   "outputs": [
    {
     "name": "stdout",
     "output_type": "stream",
     "text": [
      "59742\n"
     ]
    }
   ],
   "source": [
    "print(len(theorem_dict))"
   ]
  },
  {
   "cell_type": "code",
   "execution_count": null,
   "id": "fce0d2cb-6713-4884-902d-550a0d7b0e89",
   "metadata": {},
   "outputs": [
    {
     "data": {
      "text/plain": [
       "('Mathlib/Algebra/GeomSum.lean',\n",
       " 'theorem nat_sub_dvd_pow_sub_pow (x y n : ℕ) : x - y ∣ x ^ n - y ^ n := by\\n  rcases le_or_lt y x with h | h\\n  · have : y ^ n ≤ x ^ n := Nat.pow_le_pow_left h _\\n    exact mod_cast sub_dvd_pow_sub_pow (x : ℤ) (↑y) n\\n  · have : x ^ n ≤ y ^ n := Nat.pow_le_pow_left h.le _\\n    exact (Nat.sub_eq_zero_of_le this).symm ▸ dvd_zero (x - y)\\n')"
      ]
     },
     "execution_count": 15,
     "metadata": {},
     "output_type": "execute_result"
    }
   ],
   "source": [
    "theorem_dict['nat_sub_dvd_pow_sub_pow'] # example"
   ]
  },
  {
   "cell_type": "markdown",
   "id": "2c82a736-5dc9-431f-bc59-a4d0364b61e8",
   "metadata": {},
   "source": [
    "## eval dataset"
   ]
  },
  {
   "cell_type": "code",
   "execution_count": null,
   "id": "39934f77-1bb6-4a6f-9b5c-2775d2afbadf",
   "metadata": {},
   "outputs": [
    {
     "name": "stderr",
     "output_type": "stream",
     "text": [
      "  0%|          | 0/4360 [00:00<?, ?it/s]"
     ]
    },
    {
     "name": "stderr",
     "output_type": "stream",
     "text": [
      " 49%|████▉     | 2151/4360 [00:00<00:00, 2434.59it/s]"
     ]
    },
    {
     "ename": "",
     "evalue": "",
     "output_type": "error",
     "traceback": [
      "\u001b[1;31mThe Kernel crashed while executing code in the current cell or a previous cell. \n",
      "\u001b[1;31mPlease review the code in the cell(s) to identify a possible cause of the failure. \n",
      "\u001b[1;31mClick <a href='https://aka.ms/vscodeJupyterKernelCrash'>here</a> for more info. \n",
      "\u001b[1;31mView Jupyter <a href='command:jupyter.viewOutput'>log</a> for further details."
     ]
    }
   ],
   "source": [
    "PROVER_PROMPT = 'Complete the following Lean 4 code:\\n\\n```lean4\\n'\n",
    "eval_theorems = []\n",
    "\n",
    "empty_file = 0\n",
    "for file_name in tqdm(lean_file_dict.keys()):\n",
    "    if (len(entry_dict[file_name]) == 0):\n",
    "        empty_file += 1\n",
    "        continue\n",
    "    lines = lean_file_dict[file_name]\n",
    "    entries = entry_dict[file_name]\n",
    "    entries = sorted(entries, key = lambda x: x['start'][0])\n",
    "    \n",
    "    for entry in entries:\n",
    "        context_str = PROVER_PROMPT + ''.join(lines[:entry['start'][0] - 1]) # prompt + all the contexte\n",
    "        theorem_str = ''.join(lines[entry['start'][0] - 1: entry['end'][0]]) # the theorem is in the target\n",
    "        theorem_item = (file_name, context_str, theorem_str)\n",
    "        eval_theorems.append(theorem_item)\n",
    "print('# Mathlib theorems:', len(eval_theorems))"
   ]
  },
  {
   "cell_type": "code",
   "execution_count": null,
   "id": "461a1c72-483d-415d-9cdb-dab7c42dbe46",
   "metadata": {},
   "outputs": [],
   "source": [
    "rng = np.random.default_rng(0)\n",
    "rng.shuffle(eval_theorems)\n",
    "cutoff = 4096\n",
    "train_theorems = [{'prompt': entry[1], 'target': entry[2]} for entry in eval_theorems[cutoff:]]\n",
    "eval_theorems = [{'prompt': entry[1], 'target': entry[2]} for entry in eval_theorems[:cutoff]]"
   ]
  },
  {
   "cell_type": "code",
   "execution_count": null,
   "id": "a89842c0-38d0-4e6b-8509-52ac41327ad3",
   "metadata": {},
   "outputs": [],
   "source": [
    "with open(os.path.join(Save_DIR, 'eval.json'), 'w') as f:\n",
    "    json.dump(eval_theorems, f)"
   ]
  },
  {
   "cell_type": "markdown",
   "id": "921ce40f-b923-49b8-84ec-56602b55acca",
   "metadata": {},
   "source": [
    "## mathlib + Conjecture"
   ]
  },
  {
   "cell_type": "code",
   "execution_count": null,
   "id": "a3c31f87-a885-4c4f-ae8c-a5f48120275e",
   "metadata": {},
   "outputs": [
    {
     "name": "stdout",
     "output_type": "stream",
     "text": [
      "106921\n"
     ]
    }
   ],
   "source": [
    "train_ds = conjecture_ds + train_theorems\n",
    "rng = np.random.default_rng(0)\n",
    "rng.shuffle(train_ds)\n",
    "print(len(train_ds))"
   ]
  },
  {
   "cell_type": "code",
   "execution_count": null,
   "id": "f1594b80-b624-4514-ba47-d75136dbe81e",
   "metadata": {},
   "outputs": [],
   "source": [
    "with open(os.path.join(Save_DIR, 'mathlib_conjecture.json'), 'w') as f:\n",
    "    json.dump(train_ds, f)"
   ]
  }
 ],
 "metadata": {
  "kernelspec": {
   "display_name": "Python 3",
   "language": "python",
   "name": "python3"
  },
  "language_info": {
   "codemirror_mode": {
    "name": "ipython",
    "version": 3
   },
   "file_extension": ".py",
   "mimetype": "text/x-python",
   "name": "python",
   "nbconvert_exporter": "python",
   "pygments_lexer": "ipython3",
   "version": "3.12.10"
  }
 },
 "nbformat": 4,
 "nbformat_minor": 5
}
